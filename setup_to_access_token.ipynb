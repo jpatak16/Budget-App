{
 "cells": [
  {
   "cell_type": "markdown",
   "id": "b725bd37",
   "metadata": {},
   "source": [
    "This script will convert a SimpleFIN setup token to a SimpleFIN access token. \n",
    "\n",
    "The setup token needs to be acquired from SimpleFIN Bridge and saved as SIMPLEFIN_SETUP_TOKEN in the **.env** file. \n",
    "\n",
    "Instructions for creating a setup token can be found [here](https://actualbudget.org/docs/advanced/bank-sync/simplefin/).\n",
    "\n",
    "The access code also gets saved into **.env** so that it can be used later."
   ]
  },
  {
   "cell_type": "code",
   "execution_count": 1,
   "id": "d1dccd79",
   "metadata": {},
   "outputs": [],
   "source": [
    "import os\n",
    "import base64\n",
    "import requests\n",
    "from dotenv import load_dotenv, dotenv_values"
   ]
  },
  {
   "cell_type": "code",
   "execution_count": 2,
   "id": "d7f0be86",
   "metadata": {},
   "outputs": [],
   "source": [
    "# Load variables from .env\n",
    "load_dotenv()\n",
    "\n",
    "# Read from environment\n",
    "SIMPLEFIN_SETUP_TOKEN = os.getenv(\"SIMPLEFIN_SETUP_TOKEN\")\n",
    "\n",
    "# Display error if token not found\n",
    "if SIMPLEFIN_SETUP_TOKEN is None:\n",
    "    raise ValueError(\"SimpleFIN Setup Token was not found in environment.\")\n"
   ]
  },
  {
   "cell_type": "code",
   "execution_count": 3,
   "id": "7a373373",
   "metadata": {},
   "outputs": [],
   "source": [
    "# Decode the token into a claim URL\n",
    "claim_url = base64.b64decode(SIMPLEFIN_SETUP_TOKEN).decode(\"utf-8\")"
   ]
  },
  {
   "cell_type": "code",
   "execution_count": 4,
   "id": "547efcc2",
   "metadata": {},
   "outputs": [],
   "source": [
    "# Exchange the claim URL for a permanent access URL\n",
    "response = requests.post(claim_url)\n",
    "\n",
    "# Display error if access URL not returned\n",
    "if response.status_code != 200:\n",
    "    raise Exception(f\"Failed to claim token: {response.status_code} - {response.text}\")\n",
    "\n",
    "access_url = response.text.strip()"
   ]
  },
  {
   "cell_type": "code",
   "execution_count": 5,
   "id": "dff71bfb",
   "metadata": {},
   "outputs": [],
   "source": [
    "# Find current env vars\n",
    "env_path = \".env\"\n",
    "existing = dotenv_values(env_path)\n",
    "\n",
    "# Update or add the new value\n",
    "existing[\"SIMPLEFIN_ACCESS_TOKEN\"] = access_url\n",
    "\n",
    "# Write everything back to the .env file\n",
    "with open(env_path, \"w\") as f:\n",
    "    for key, value in existing.items():\n",
    "        f.write(f\"{key}={value}\\n\")"
   ]
  }
 ],
 "metadata": {
  "kernelspec": {
   "display_name": "base",
   "language": "python",
   "name": "python3"
  },
  "language_info": {
   "codemirror_mode": {
    "name": "ipython",
    "version": 3
   },
   "file_extension": ".py",
   "mimetype": "text/x-python",
   "name": "python",
   "nbconvert_exporter": "python",
   "pygments_lexer": "ipython3",
   "version": "3.9.12"
  }
 },
 "nbformat": 4,
 "nbformat_minor": 5
}
