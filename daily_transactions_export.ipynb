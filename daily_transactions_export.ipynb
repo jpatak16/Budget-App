{
 "cells": [
  {
   "cell_type": "code",
   "execution_count": 13,
   "id": "fe0d3a21",
   "metadata": {},
   "outputs": [],
   "source": [
    "import requests\n",
    "import os\n",
    "import datetime\n",
    "import pandas as pd\n",
    "from dotenv import load_dotenv"
   ]
  },
  {
   "cell_type": "code",
   "execution_count": 5,
   "id": "56477e86",
   "metadata": {},
   "outputs": [],
   "source": [
    "# Load variables from .env\n",
    "load_dotenv()\n",
    "\n",
    "# Read from environment\n",
    "access_url = os.getenv(\"SIMPLEFIN_ACCESS_TOKEN\")\n",
    "\n",
    "# Display error if token not found\n",
    "if access_url is None:\n",
    "    raise ValueError(\"SimpleFIN Access Token was not found in environment.\")\n"
   ]
  },
  {
   "cell_type": "code",
   "execution_count": 6,
   "id": "60d6e04a",
   "metadata": {},
   "outputs": [],
   "source": [
    "# Parse authentication from access URL\n",
    "scheme, rest = access_url.split(\"//\", 1)\n",
    "auth, rest = rest.split(\"@\", 1)\n",
    "\n",
    "username, password = auth.split(\":\", 1)\n",
    "\n",
    "url = scheme + \"//\" + rest + \"/accounts\""
   ]
  },
  {
   "cell_type": "code",
   "execution_count": 7,
   "id": "faf90c9c",
   "metadata": {},
   "outputs": [],
   "source": [
    "# Fetch data from SimpleFIN\n",
    "response = requests.get(url, auth=(username, password))\n",
    "\n",
    "# Display error is we fail to feth the accounts\n",
    "if response.status_code != 200:\n",
    "    raise Exception(f\"Failed to fetch accounts: {response.status_code} - {response.text}\")\n",
    "\n",
    "data = response.json()"
   ]
  },
  {
   "cell_type": "code",
   "execution_count": 10,
   "id": "58e606a0",
   "metadata": {},
   "outputs": [],
   "source": [
    "# Helper function to convert timestamps into datetime\n",
    "def ts_to_datetime(ts):\n",
    "    return datetime.datetime.fromtimestamp(ts)\n",
    "\n",
    "transactions = []\n",
    "\n",
    "# Account name and balance for all accounts\n",
    "for account in data[\"accounts\"]:\n",
    "    acct_name = account[\"name\"]\n",
    "    balance_date = ts_to_datetime(account[\"balance-date\"])\n",
    "\n",
    "    # Info about each transaction within each account\n",
    "    for trans in account.get(\"transactions\", []):\n",
    "        transactions.append({\n",
    "            \"account\": acct_name,\n",
    "            \"date\": ts_to_datetime(trans[\"posted\"]).date(),\n",
    "            \"description\": trans[\"description\"],\n",
    "            \"amount\": trans[\"amount\"],\n",
    "            \"category\": trans.get(\"category\", None)\n",
    "        })"
   ]
  },
  {
   "cell_type": "code",
   "execution_count": 14,
   "id": "28cd813b",
   "metadata": {},
   "outputs": [
    {
     "name": "stdout",
     "output_type": "stream",
     "text": [
      " Successfully exported 2 transactions to transactions_2025-06-05.csv\n"
     ]
    }
   ],
   "source": [
    "# Export to csv\n",
    "\n",
    "df = pd.DataFrame(transactions).sort_values(by=\"date\", ascending=True)\n",
    "\n",
    "today = datetime.datetime.now().strftime('%Y-%m-%d')\n",
    "filename = f\"transactions_{today}.csv\"\n",
    "df.to_csv(filename, index=False)\n",
    "\n",
    "# Confirmation message\n",
    "print(f\" Successfully exported {len(df)} transactions to {filename}\")"
   ]
  }
 ],
 "metadata": {
  "kernelspec": {
   "display_name": "base",
   "language": "python",
   "name": "python3"
  },
  "language_info": {
   "codemirror_mode": {
    "name": "ipython",
    "version": 3
   },
   "file_extension": ".py",
   "mimetype": "text/x-python",
   "name": "python",
   "nbconvert_exporter": "python",
   "pygments_lexer": "ipython3",
   "version": "3.9.12"
  }
 },
 "nbformat": 4,
 "nbformat_minor": 5
}
